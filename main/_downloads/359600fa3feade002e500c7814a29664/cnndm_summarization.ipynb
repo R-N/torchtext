{
  "cells": [
    {
      "cell_type": "markdown",
      "metadata": {},
      "source": [
        "\n# CNNDM Text Summarization with T5-Base model\n\n**Author**: [Pendo Abbo](pabbo@fb.com)_\n"
      ]
    },
    {
      "cell_type": "markdown",
      "metadata": {},
      "source": [
        "## Overview\n\nThis tutorial demonstrates how to use a pre-trained T5 Model for text summarization on the CNN-DailyMail dataset.\nWe will demonstrate how to use the torchtext library to:\n\n1. Build a text pre-processing pipeline for a T5 model\n2. Read in the CNNDM dataset and pre-process the text\n3. Instantiate a pre-trained T5 model with base configuration, and perform text summarization on input text\n\n\n\n"
      ]
    },
    {
      "cell_type": "markdown",
      "metadata": {},
      "source": [
        "## Common imports\n\n"
      ]
    },
    {
      "cell_type": "code",
      "execution_count": null,
      "metadata": {
        "collapsed": false
      },
      "outputs": [],
      "source": [
        "import torch\nimport torch.nn.functional as F\n\nDEVICE = torch.device(\"cuda\") if torch.cuda.is_available() else torch.device(\"cpu\")"
      ]
    },
    {
      "cell_type": "markdown",
      "metadata": {},
      "source": [
        "## Data Transformation\n\nThe T5 model does not work with raw text. Instead, it requires the text to be transformed into numerical form\nin order to perform training and inference. The following transformations are required for the T5 model:\n\n1. Tokenize text\n2. Convert tokens into (integer) IDs\n3. Truncate the sequences to a specified maximum length\n4. Add end-of-sequence (EOS) and padding token IDs\n\nT5 uses a SentencePiece model for text tokenization. Below, we use a pre-trained SentencePiece model to build\nthe text pre-processing pipeline using torchtext's T5Transform. Note that the transform supports both\nbatched and non-batched text input (i.e. one can either pass a single sentence or a list of sentences), however\nthe T5 model expects the input to be batched.\n\n\n"
      ]
    },
    {
      "cell_type": "code",
      "execution_count": null,
      "metadata": {
        "collapsed": false
      },
      "outputs": [],
      "source": [
        "from torchtext.prototype.models import T5Transform\n\npadding_idx = 0\neos_idx = 1\nmax_seq_len = 512\nt5_sp_model_path = \"https://download.pytorch.org/models/text/t5_tokenizer_base.model\"\n\ntransform = T5Transform(\n    sp_model_path=t5_sp_model_path,\n    max_seq_len=max_seq_len,\n    eos_idx=eos_idx,\n    padding_idx=padding_idx,\n)"
      ]
    },
    {
      "cell_type": "markdown",
      "metadata": {},
      "source": [
        "Alternatively, we can also use the transform shipped with the pre-trained models that does all of the above out-of-the-box\n\n::\n\n  from torchtext.prototype.models import T5_BASE_GENERATION\n  transform = T5_BASE_GENERATION.transform()\n\n\n"
      ]
    },
    {
      "cell_type": "markdown",
      "metadata": {},
      "source": [
        "## Dataset\ntorchtext provides several standard NLP datasets. For a complete list, refer to the documentation at https://pytorch.org/text/stable/datasets.html.\nThese datasets are built using composable torchdata datapipes and hence support standard flow-control and mapping/transformation\nusing user defined functions and transforms. Below, we demonstrate how to pre-process the CNNDM dataset to include the prefix necessary\nfor the model to identify the task it is performing.\n\nThe CNNDM dataset has a train, validation, and test split. Below we demo on the test split.\n\n<div class=\"alert alert-info\"><h4>Note</h4><p>Using datapipes is still currently subject to a few caveats. If you wish\n      to extend this example to include shuffling, multi-processing, or\n      distributed learning, please see `this note <datapipes_warnings>`\n      for further instructions.</p></div>\n\n"
      ]
    },
    {
      "cell_type": "code",
      "execution_count": null,
      "metadata": {
        "collapsed": false
      },
      "outputs": [],
      "source": [
        "from functools import partial\n\nfrom torch.utils.data import DataLoader\nfrom torchtext.datasets.cnndm import CNNDM\n\nbatch_size = 5\ntest_datapipe = CNNDM(split=\"test\")\ntask = \"summarize\"\n\n\ndef apply_prefix(task, x):\n    return f\"{task}: \" + x[0], x[1]\n\n\ntest_datapipe = test_datapipe.map(partial(apply_prefix, task))\ntest_datapipe = test_datapipe.batch(batch_size)\ntest_datapipe = test_datapipe.rows2columnar([\"article\", \"abstract\"])\ntest_dataloader = DataLoader(test_datapipe, batch_size=None)"
      ]
    },
    {
      "cell_type": "markdown",
      "metadata": {},
      "source": [
        "Alternately we can also use batched API (i.e apply the prefix on the whole batch)\n\n::\n\n  def batch_prefix(task, x):\n   return {\n       \"article\": [f'{task}: ' + y for y in x[\"article\"]],\n       \"abstract\": x[\"abstract\"]\n   }\n\n  batch_size = 5\n  test_datapipe = CNNDM(split=\"test\")\n  task = 'summarize'\n\n  test_datapipe = test_datapipe.batch(batch_size).rows2columnar([\"article\", \"abstract\"])\n  test_datapipe = test_datapipe.map(partial(batch_prefix, task))\n  test_dataloader = DataLoader(test_datapipe, batch_size=None)\n\n\n"
      ]
    },
    {
      "cell_type": "markdown",
      "metadata": {},
      "source": [
        "## Model Preparation\n\ntorchtext provides SOTA pre-trained models that can be used directly for NLP tasks or fine-tuned on downstream tasks. Below\nwe use the pre-trained T5 model with standard base configuration to perform text summarization. For additional details on\navailable pre-trained models, please refer to documentation at https://pytorch.org/text/main/models.html\n\n\n\n"
      ]
    },
    {
      "cell_type": "code",
      "execution_count": null,
      "metadata": {
        "collapsed": false
      },
      "outputs": [],
      "source": [
        "from torchtext.prototype.models import T5_BASE_GENERATION\n\n\nt5_base = T5_BASE_GENERATION\ntransform = t5_base.transform()\nmodel = t5_base.get_model()\nmodel.eval()\nmodel.to(DEVICE)"
      ]
    },
    {
      "cell_type": "markdown",
      "metadata": {},
      "source": [
        "## Sequence Generator\n\nWe can define a sequence generator to produce an output sequence based on the input sequence provided. This calls on the\nmodel's encoder and decoder, and iteratively expands the decoded sequences until the end-of-sequence token is generated\nfor all sequences in the batch. The `generate` method shown below uses a beam search to generate the sequences. Larger\nbeam sizes can result in better generation at the cost of computational complexity, and a beam size of 1 is equivalent to\na greedy decoder.\n\n\n"
      ]
    },
    {
      "cell_type": "code",
      "execution_count": null,
      "metadata": {
        "collapsed": false
      },
      "outputs": [],
      "source": [
        "from torch import Tensor\nfrom torchtext.prototype.models import T5Model\n\n\ndef beam_search(\n    beam_size: int,\n    step: int,\n    bsz: int,\n    decoder_output: Tensor,\n    decoder_tokens: Tensor,\n    scores: Tensor,\n    incomplete_sentences: Tensor,\n):\n    probs = F.log_softmax(decoder_output[:, -1], dim=-1)\n    top = torch.topk(probs, beam_size)\n\n    # N is number of sequences in decoder_tokens, L is length of sequences, B is beam_size\n    # decoder_tokens has shape (N,L) -> (N,B,L)\n    # top.indices has shape (N,B) - > (N,B,1)\n    # x has shape (N,B,L+1)\n    # note that when step == 1, N = batch_size, and when step > 1, N = batch_size * beam_size\n    x = torch.cat([decoder_tokens.unsqueeze(1).repeat(1, beam_size, 1), top.indices.unsqueeze(-1)], dim=-1)\n\n    # beams are first created for a given sequence\n    if step == 1:\n        # x has shape (batch_size, B, L+1) -> (batch_size * B, L+1)\n        # new_scores has shape (batch_size,B)\n        # incomplete_sentences has shape (batch_size * B) = (N)\n        new_decoder_tokens = x.view(-1, step + 1)\n        new_scores = top.values\n        new_incomplete_sentences = incomplete_sentences\n\n    # beams already exist, want to expand each beam into possible new tokens to add\n    # and for all expanded beams beloning to the same sequences, choose the top k\n    else:\n        # scores has shape (batch_size,B) -> (N,1) -> (N,B)\n        # top.values has shape (N,B)\n        # new_scores has shape (N,B) -> (batch_size, B^2)\n        new_scores = (scores.view(-1, 1).repeat(1, beam_size) + top.values).view(bsz, -1)\n\n        # v, i have shapes (batch_size, B)\n        v, i = torch.topk(new_scores, beam_size)\n\n        # x has shape (N,B,L+1) -> (batch_size, B, L+1)\n        # i has shape (batch_size, B) -> (batch_size, B, L+1)\n        # new_decoder_tokens has shape (batch_size, B, L+1) -> (N, L)\n        x = x.view(bsz, -1, step + 1)\n        new_decoder_tokens = x.gather(index=i.unsqueeze(-1).repeat(1, 1, step + 1), dim=1).view(-1, step + 1)\n\n        # need to update incomplete sentences in case one of the beams was kicked out\n        # y has shape (N) -> (N, 1) -> (N, B) -> (batch_size, B^2)\n        y = incomplete_sentences.unsqueeze(-1).repeat(1, beam_size).view(bsz, -1)\n\n        # now can use i to extract those beams that were selected\n        # new_incomplete_sentences has shape (batch_size, B^2) -> (batch_size, B) -> (N, 1) -> N\n        new_incomplete_sentences = y.gather(index=i, dim=1).view(bsz * beam_size, 1).squeeze(-1)\n\n        # new_scores has shape (batch_size, B)\n        new_scores = v\n\n    return new_decoder_tokens, new_scores, new_incomplete_sentences\n\n\ndef generate(encoder_tokens: Tensor, eos_idx: int, model: T5Model, beam_size: int) -> Tensor:\n\n    # pass tokens through encoder\n    bsz = encoder_tokens.size(0)\n    encoder_padding_mask = encoder_tokens.eq(model.padding_idx)\n    encoder_embeddings = model.dropout1(model.token_embeddings(encoder_tokens))\n    encoder_output = model.encoder(encoder_embeddings, tgt_key_padding_mask=encoder_padding_mask)[0]\n\n    encoder_output = model.norm1(encoder_output)\n    encoder_output = model.dropout2(encoder_output)\n\n    # initialize decoder input sequence; T5 uses padding index as starter index to decoder sequence\n    decoder_tokens = torch.ones((bsz, 1), dtype=torch.long) * model.padding_idx\n    scores = torch.zeros((bsz, beam_size))\n\n    # mask to keep track of sequences for which the decoder has not produced an end-of-sequence token yet\n    incomplete_sentences = torch.ones(bsz * beam_size, dtype=torch.long)\n\n    # iteratively generate output sequence until all sequences in the batch have generated the end-of-sequence token\n    for step in range(model.config.max_seq_len):\n\n        if step == 1:\n            # duplicate and order encoder output so that each beam is treated as its own independent sequence\n            new_order = torch.arange(bsz).view(-1, 1).repeat(1, beam_size).view(-1)\n            new_order = new_order.to(encoder_tokens.device).long()\n            encoder_output = encoder_output.index_select(0, new_order)\n            encoder_padding_mask = encoder_padding_mask.index_select(0, new_order)\n\n        # causal mask and padding mask for decoder sequence\n        tgt_len = decoder_tokens.shape[1]\n        decoder_mask = torch.triu(torch.ones((tgt_len, tgt_len), dtype=torch.float64), diagonal=1).bool()\n        decoder_padding_mask = decoder_tokens.eq(model.padding_idx)\n\n        # T5 implemention uses padding idx to start sequence. Want to ignore this when masking\n        decoder_padding_mask[:, 0] = False\n\n        # pass decoder sequence through decoder\n        decoder_embeddings = model.dropout3(model.token_embeddings(decoder_tokens))\n        decoder_output = model.decoder(\n            decoder_embeddings,\n            memory=encoder_output,\n            tgt_mask=decoder_mask,\n            tgt_key_padding_mask=decoder_padding_mask,\n            memory_key_padding_mask=encoder_padding_mask,\n        )[0]\n\n        decoder_output = model.norm2(decoder_output)\n        decoder_output = model.dropout4(decoder_output)\n        decoder_output = decoder_output * (model.config.embedding_dim ** -0.5)\n        decoder_output = model.lm_head(decoder_output)\n\n        decoder_tokens, scores, incomplete_sentences = beam_search(\n            beam_size, step + 1, bsz, decoder_output, decoder_tokens, scores, incomplete_sentences\n        )\n        # ignore newest tokens for sentences that are already complete\n        decoder_tokens[:, -1] *= incomplete_sentences\n\n        # update incomplete_sentences to remove those that were just ended\n        incomplete_sentences = incomplete_sentences - (decoder_tokens[:, -1] == eos_idx).long()\n\n        # early stop if all sentences have been ended\n        if (incomplete_sentences == 0).all():\n            break\n\n    # take most likely sequence\n    decoder_tokens = decoder_tokens.view(bsz, beam_size, -1)[:, 0, :]\n    return decoder_tokens"
      ]
    },
    {
      "cell_type": "markdown",
      "metadata": {},
      "source": [
        "## Generate Summaries\n\nFinally we put all of the components together to generate summaries on the first batch of articles in the CNNDM test set\nusing a beam size of 3.\n\n\n"
      ]
    },
    {
      "cell_type": "code",
      "execution_count": null,
      "metadata": {
        "collapsed": false
      },
      "outputs": [],
      "source": [
        "batch = next(iter(test_dataloader))\ninput_text = batch[\"article\"]\nmodel_input = transform(input_text)\ntarget = batch[\"abstract\"]\nbeam_size = 3\n\nmodel_output = generate(model=model, encoder_tokens=model_input, eos_idx=eos_idx, beam_size=beam_size)\noutput_text = transform.decode(model_output.tolist())\n\nfor i in range(batch_size):\n\n    print(f\"Example {i+1}:\\n\")\n    print(f\"prediction: {output_text[i]}\\n\")\n    print(f\"target: {target[i]}\\n\\n\")"
      ]
    },
    {
      "cell_type": "markdown",
      "metadata": {},
      "source": [
        "## Output\n\n::\n\n   Example 1:\n\n   prediction: the Palestinians become the 123rd member of the international criminal\n   court . the accession was marked by a ceremony at the Hague, where the court is based .\n   the ICC opened a preliminary examination into the situation in the occupied\n   Palestinian territory .\n\n   target: Membership gives the ICC jurisdiction over alleged crimes committed in\n   Palestinian territories since last June . Israel and the United States opposed the\n   move, which could open the door to war crimes investigations against Israelis .\n\n\n   Example 2:\n\n   prediction: a stray pooch has used up at least three of her own after being hit by a\n   car and buried in a field . the dog managed to stagger to a nearby farm, dirt-covered\n   and emaciated, where she was found . she suffered a dislocated jaw, leg injuries and a\n   caved-in sinus cavity -- and still requires surgery to help her breathe .\n\n   target: Theia, a bully breed mix, was apparently hit by a car, whacked with a hammer\n   and buried in a field . \"She's a true miracle dog and she deserves a good life,\" says\n   Sara Mellado, who is looking for a home for Theia .\n\n\n   Example 3:\n\n   prediction: mohammad Javad Zarif arrived in Iran on a sunny friday morning . he has gone\n   a long way to bring Iran in from the cold and allow it to rejoin the international\n   community . but there are some facts about him that are less well-known .\n\n   target: Mohammad Javad Zarif has spent more time with John Kerry than any other\n   foreign minister . He once participated in a takeover of the Iranian Consulate in San\n   Francisco . The Iranian foreign minister tweets in English .\n\n\n   Example 4:\n\n   prediction: five americans were monitored for three weeks after being exposed to Ebola in\n   west africa . one of the five had a heart-related issue and has been discharged but hasn't\n   left the area . they are clinicians for Partners in Health, a Boston-based aid group .\n\n   target: 17 Americans were exposed to the Ebola virus while in Sierra Leone in March .\n   Another person was diagnosed with the disease and taken to hospital in Maryland .\n   National Institutes of Health says the patient is in fair condition after weeks of\n   treatment .\n\n\n   Example 5:\n\n   prediction: the student was identified during an investigation by campus police and\n   the office of student affairs . he admitted to placing the noose on the tree early\n   Wednesday morning . the incident is one of several recent racist events to affect\n   college students .\n\n   target: Student is no longer on Duke University campus and will face disciplinary\n   review . School officials identified student during investigation and the person\n   admitted to hanging the noose, Duke says . The noose, made of rope, was discovered on\n   campus about 2 a.m.\n\n"
      ]
    }
  ],
  "metadata": {
    "kernelspec": {
      "display_name": "Python 3",
      "language": "python",
      "name": "python3"
    },
    "language_info": {
      "codemirror_mode": {
        "name": "ipython",
        "version": 3
      },
      "file_extension": ".py",
      "mimetype": "text/x-python",
      "name": "python",
      "nbconvert_exporter": "python",
      "pygments_lexer": "ipython3",
      "version": "3.8.13"
    }
  },
  "nbformat": 4,
  "nbformat_minor": 0
}